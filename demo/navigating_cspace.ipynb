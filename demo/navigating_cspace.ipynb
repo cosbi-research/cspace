{
 "cells": [
  {
   "cell_type": "markdown",
   "id": "5069c846-54f5-445c-95d3-17406722d7b6",
   "metadata": {},
   "source": [
    "# Dependencies"
   ]
  },
  {
   "cell_type": "code",
   "execution_count": null,
   "id": "afcd7c5f-cc97-4ac1-b941-f8110e7666ea",
   "metadata": {},
   "outputs": [],
   "source": [
    "!pip install gensim"
   ]
  },
  {
   "cell_type": "code",
   "execution_count": 1,
   "id": "3f3c8831-335b-487f-a9df-8651cedb9da7",
   "metadata": {},
   "outputs": [],
   "source": [
    "from gensim.models import KeyedVectors\n",
    "from utils import getmesh,getgene\n",
    "from commonalities import *"
   ]
  },
  {
   "cell_type": "markdown",
   "id": "c30bfd94-1e0f-4307-b754-b6d643df48fe",
   "metadata": {},
   "source": [
    "# Loading\n",
    "Loading with 'r' parameters means another process can do the same and the memory is shared through MMAP"
   ]
  },
  {
   "cell_type": "code",
   "execution_count": 6,
   "id": "64a6e732-d05b-4176-a8a6-99da11ee0713",
   "metadata": {},
   "outputs": [],
   "source": [
    "model = KeyedVectors.load('models/cspace.kv.bin','r')"
   ]
  },
  {
   "cell_type": "code",
   "execution_count": 2,
   "id": "0eea7a6f-32cd-483b-b41a-ec994332417b",
   "metadata": {},
   "outputs": [],
   "source": [
    "smodel = KeyedVectors.load('models/cspace.100k.kv.bin','r')"
   ]
  },
  {
   "cell_type": "markdown",
   "id": "76f823ad-19a6-4364-8a3d-ccd77e5af88d",
   "metadata": {},
   "source": [
    "# Coarse exploration of neighborhood\n",
    "First explore neighborhood of given concepts for related diseases, genes, species or conditions"
   ]
  },
  {
   "cell_type": "code",
   "execution_count": 3,
   "id": "f8354711-5dea-438b-81ee-cea8017dbdb8",
   "metadata": {},
   "outputs": [],
   "source": [
    "c1='ipf' # Idiopathic Pulmonary Fibrosis\n",
    "c2='long_covid'"
   ]
  },
  {
   "cell_type": "code",
   "execution_count": 5,
   "id": "35a6270b-0059-4593-9293-6d77aee9ebd7",
   "metadata": {},
   "outputs": [
    {
     "data": {
      "text/plain": [
       "[('idiopathic_pulmonary_fibrosis', 0.8397676944732666),\n",
       " ('ssc-ild', 0.8062280416488647),\n",
       " ('nsip', 0.8031862378120422),\n",
       " ('ae-ipf', 0.8015839457511902),\n",
       " ('idiopathic_pulmonary', 0.798287034034729),\n",
       " ('disease_mesh_d054990', 0.787049412727356),\n",
       " ('ctd-ild', 0.7767012119293213),\n",
       " ('ra-ild', 0.7679328918457031),\n",
       " ('interstitial_lung_disease', 0.7670239210128784),\n",
       " ('ild', 0.7600297927856445)]"
      ]
     },
     "execution_count": 5,
     "metadata": {},
     "output_type": "execute_result"
    }
   ],
   "source": [
    "# concepts semantically similar\n",
    "#list(get_names( \n",
    "smodel.most_similar(c1, topn=10) "
   ]
  },
  {
   "cell_type": "markdown",
   "id": "e2b017b3-3bc3-4b7b-a0ca-493c61d96c2e",
   "metadata": {},
   "source": [
    "what is ILD?"
   ]
  },
  {
   "cell_type": "code",
   "execution_count": 6,
   "id": "b9faca01-beb0-4115-88bc-89f7b3866b80",
   "metadata": {},
   "outputs": [
    {
     "data": {
      "text/plain": [
       "[('interstitial_lung_disease', 0.8685597777366638),\n",
       " ('ctd-ild', 0.8181895613670349),\n",
       " ('nsip', 0.8018287420272827),\n",
       " ('disease_mesh_d017563', 0.7992202639579773),\n",
       " ('ra-ild', 0.7935575246810913),\n",
       " ('idiopathic_pulmonary_fibrosis', 0.7925955653190613),\n",
       " ('lung_disease', 0.7866021990776062),\n",
       " ('interstitial_pneumonia', 0.7826959490776062),\n",
       " ('hrct', 0.7738054394721985),\n",
       " ('ipf', 0.7600297927856445)]"
      ]
     },
     "execution_count": 6,
     "metadata": {},
     "output_type": "execute_result"
    }
   ],
   "source": [
    "smodel.most_similar('ild', topn=10)"
   ]
  },
  {
   "cell_type": "markdown",
   "id": "75487459-bd92-4ddf-99fb-cbd8f8aca4c7",
   "metadata": {},
   "source": [
    "what is RA-ILD?  \n",
    "\n",
    "\"rheumatoid arthritis\" combined with \"Interstitial lung disease\". "
   ]
  },
  {
   "cell_type": "markdown",
   "id": "579ef868-9033-46ff-a9e1-bd2154503698",
   "metadata": {},
   "source": [
    "## explore concepts midway between 'RA' and 'ILD'\n",
    "\n",
    "both on small model (coarse-grained exploration)"
   ]
  },
  {
   "cell_type": "code",
   "execution_count": 13,
   "id": "83139bc9-f6d5-4232-8510-36cba1f6d093",
   "metadata": {},
   "outputs": [
    {
     "data": {
      "text/plain": [
       "[('interstitial_lung_disease', 0.9068495631217957),\n",
       " ('rheumatoid_arthritis', 0.9068494439125061),\n",
       " ('rheumatic_disease', 0.8805110454559326),\n",
       " ('inflammatory_arthritis', 0.8632184267044067),\n",
       " ('rheumatoid', 0.8588052988052368),\n",
       " ('systemic_sclerosis', 0.8577644228935242),\n",
       " ('juvenile_idiopathic_arthritis', 0.8413053154945374),\n",
       " ('arthritis', 0.8406729698181152),\n",
       " ('lung_disease', 0.8402458429336548),\n",
       " ('polymyalgia_rheumatica', 0.8381184935569763)]"
      ]
     },
     "execution_count": 13,
     "metadata": {},
     "output_type": "execute_result"
    }
   ],
   "source": [
    "smodel.similar_by_vector( smodel.get_vector('rheumatoid_arthritis', norm=True)*1/2.0 + smodel.get_vector('interstitial_lung_disease', norm=True)*1/2.0 , topn=10)"
   ]
  },
  {
   "cell_type": "markdown",
   "id": "21b8afce-321f-462e-b79f-46387047b49a",
   "metadata": {},
   "source": [
    "and on full model for fine-grained exploration"
   ]
  },
  {
   "cell_type": "code",
   "execution_count": 14,
   "id": "8abe396e-59f4-47b3-beed-bffcb02872e2",
   "metadata": {},
   "outputs": [
    {
     "data": {
      "text/plain": [
       "[('rheumatoid_arthritis_interstitial_lung_disease', 0.9765331149101257),\n",
       " ('rheumatoid_arthritis–interstitial_lung_disease', 0.9700795412063599),\n",
       " ('rheumatoid_arthritis-interstitial_lung_disease', 0.9683608412742615),\n",
       " ('rheumatoid_arthritis-related_interstitial_lung_disease',\n",
       "  0.9678709506988525),\n",
       " ('_rheumatoid_arthritis-associated_interstitial_lung_disease',\n",
       "  0.9631861448287964),\n",
       " ('rheumatoid_arthritis-associated_interstitial_lung_disease',\n",
       "  0.9590489864349365),\n",
       " ('rheumatoid_interstitial_lung_disease', 0.9576582908630371),\n",
       " ('rheumatoid_arthritis-related_lung_disease', 0.9523972272872925),\n",
       " ('rheumatoid_arthritis_lung_disease', 0.9523601531982422),\n",
       " ('ra-ild_rheumatoid_arthritis-associated_interstitial_lung_disease',\n",
       "  0.9505068063735962)]"
      ]
     },
     "execution_count": 14,
     "metadata": {},
     "output_type": "execute_result"
    }
   ],
   "source": [
    "model.similar_by_vector( model.get_vector('rheumatoid_arthritis', norm=True)*1/2.0 + model.get_vector('interstitial_lung_disease', norm=True)*1/2.0 , topn=10)"
   ]
  },
  {
   "cell_type": "markdown",
   "id": "16d017e1-cd0b-4253-bf70-b586d5fa467e",
   "metadata": {},
   "source": [
    "the same can be done for long-covid"
   ]
  },
  {
   "cell_type": "code",
   "execution_count": 7,
   "id": "db15887b-1164-4d7c-adfe-f632b7bb7ec2",
   "metadata": {},
   "outputs": [
    {
     "data": {
      "text/plain": [
       "[('long-covid', 0.8718876242637634),\n",
       " ('post-covid', 0.8640903830528259),\n",
       " ('post-covid-19', 0.8436791300773621),\n",
       " ('myalgic_encephalomyelitis', 0.8102188110351562),\n",
       " ('coronavirus_disease-19', 0.8082864880561829),\n",
       " ('coronavirus_disease-2019', 0.7872609496116638),\n",
       " ('covid', 0.7853097915649414),\n",
       " ('covid-19', 0.7601396441459656),\n",
       " ('covid-19-related', 0.7519919276237488),\n",
       " ('me_cfs', 0.7385003566741943)]"
      ]
     },
     "execution_count": 7,
     "metadata": {},
     "output_type": "execute_result"
    }
   ],
   "source": [
    "# concepts semantically similar to long-covid\n",
    "smodel.most_similar(c2, topn=10)"
   ]
  },
  {
   "cell_type": "markdown",
   "id": "21637020-3074-419a-8b8a-50b99cb6e492",
   "metadata": {},
   "source": [
    "ME/CFS is Myalgic Encephalomyelitis / Chronic Fatigue Syndrome, shares a lot of symphtoms with Long-Covid!"
   ]
  },
  {
   "cell_type": "markdown",
   "id": "23b9fe32-bf25-4ef5-9239-99a8a8beed77",
   "metadata": {},
   "source": [
    "# Find related genes\n",
    "you may also discover unknown connections between apparently distant concepts, such as a disease and a gene"
   ]
  },
  {
   "cell_type": "code",
   "execution_count": 17,
   "id": "6db184d4-c2ef-4792-98db-f73f6e1bb4fc",
   "metadata": {},
   "outputs": [
    {
     "data": {
      "text/plain": [
       "[('1283-ild', 'gene_1283-ild', 0.7549170255661011),\n",
       " ('1283-ild.^', 'gene_1283-ild.^', 0.7437087893486023),\n",
       " ('1283-ilds', 'gene_1283-ilds', 0.7414316534996033),\n",
       " ('1283-disease_mesh_d017563',\n",
       "  'gene_1283-disease_mesh_d017563',\n",
       "  0.7295284867286682),\n",
       " ('5053-disease_mesh_d017563',\n",
       "  'gene_5053-disease_mesh_d017563',\n",
       "  0.7005946040153503),\n",
       " ('17-disease_mesh_d017563',\n",
       "  'gene_17-disease_mesh_d017563',\n",
       "  0.693144679069519),\n",
       " ('260431-associated', 'gene_260431-associated', 0.6875972151756287),\n",
       " ('4137ease_mesh_d054990', 'gene_4137ease_mesh_d054990', 0.6871569156646729),\n",
       " ('1283-uip', 'gene_1283-uip', 0.6868862509727478),\n",
       " ('260431-associate', 'gene_260431-associate', 0.6852938532829285),\n",
       " ('1283-uip-hlf', 'gene_1283-uip-hlf', 0.6841643452644348),\n",
       " ('260431-affecte', 'gene_260431-affecte', 0.6790813207626343),\n",
       " ('1283-pah', 'gene_1283-pah', 0.6738100051879883),\n",
       " ('1283ease_mesh_d017563', 'gene_1283ease_mesh_d017563', 0.672349750995636),\n",
       " ('COPD', 'gene_260431', 0.6720150709152222),\n",
       " ('260431-affected', 'gene_260431-affected', 0.6720097064971924),\n",
       " ('260431-negative', 'gene_260431-negative', 0.6718935370445251),\n",
       " ('1283-disease_mesh_c562470',\n",
       "  'gene_1283-disease_mesh_c562470',\n",
       "  0.6683443188667297),\n",
       " ('1283-ipfi', 'gene_1283-ipfi', 0.6636040210723877),\n",
       " ('1283-fild', 'gene_1283-fild', 0.6634089946746826),\n",
       " ('1283-associated', 'gene_1283-associated', 0.663268506526947),\n",
       " ('260431-exacerbation', 'gene_260431-exacerbation', 0.6612989902496338),\n",
       " ('1283-ip', 'gene_1283-ip', 0.6596772074699402),\n",
       " ('260431-', 'gene_260431-', 0.6595889329910278),\n",
       " ('260431-hospitalised', 'gene_260431-hospitalised', 0.6575344800949097),\n",
       " ('260431-caused', 'gene_260431-caused', 0.6566570401191711),\n",
       " ('1283-disease_mesh_d000081029',\n",
       "  'gene_1283-disease_mesh_d000081029',\n",
       "  0.6565157771110535),\n",
       " ('260431-positive', 'gene_260431-positive', 0.6532801985740662),\n",
       " ('260431-like', 'gene_260431-like', 0.6520091891288757),\n",
       " ('1283-nsip', 'gene_1283-nsip', 0.6517521739006042),\n",
       " ('260431-hbr', 'gene_260431-hbr', 0.6502649188041687),\n",
       " ('260431-define', 'gene_260431-define', 0.6497823596000671),\n",
       " ('260431-home', 'gene_260431-home', 0.6482565999031067),\n",
       " ('260431-normal', 'gene_260431-normal', 0.6471478343009949),\n",
       " ('260431-overlap', 'gene_260431-overlap', 0.6469582915306091),\n",
       " ('260431-definition', 'gene_260431-definition', 0.6455880999565125),\n",
       " ('1283-i', 'gene_1283-i', 0.6454982757568359),\n",
       " ('260431-diagnosis', 'gene_260431-diagnosis', 0.644756019115448),\n",
       " ('260431-medication', 'gene_260431-medication', 0.6439659595489502),\n",
       " ('260431-predominant', 'gene_260431-predominant', 0.6438161134719849),\n",
       " ('1283-ips', 'gene_1283-ips', 0.6436002254486084),\n",
       " ('260431-x', 'gene_260431-x', 0.6424411535263062),\n",
       " ('260431-aec', 'gene_260431-aec', 0.6416040062904358),\n",
       " ('780904-non-disease_mesh_d017563',\n",
       "  'gene_780904-non-disease_mesh_d017563',\n",
       "  0.6403573155403137),\n",
       " ('1283-cpfe', 'gene_1283-cpfe', 0.6401958465576172),\n",
       " ('260431-derived', 'gene_260431-derived', 0.6387761235237122),\n",
       " ('260431-ivasc', 'gene_260431-ivasc', 0.6383762955665588),\n",
       " ('260431-gold', 'gene_260431-gold', 0.6379538178443909),\n",
       " ('260431-ae', 'gene_260431-ae', 0.637661337852478),\n",
       " ('260431-cohort', 'gene_260431-cohort', 0.637502908706665)]"
      ]
     },
     "execution_count": 17,
     "metadata": {},
     "output_type": "execute_result"
    }
   ],
   "source": [
    "list(most_similar_genes(model,c1, topn=10000))"
   ]
  },
  {
   "cell_type": "markdown",
   "id": "44202f33-545f-4be1-9719-7ece7a60114b",
   "metadata": {},
   "source": [
    "discover commonalities between IPF-associated genes and Long-Covid"
   ]
  },
  {
   "cell_type": "markdown",
   "id": "0902e450-08fc-4092-a3b1-e83ec5187f10",
   "metadata": {},
   "source": [
    "**WARNING:** \n",
    "- gene 1283 is named *CTD*, like the *Connective Tissue Diseases*\n",
    "- gene 260431 is named *COPD*, like the *Chronic Obstructive Pulmonary Disease*.\n",
    "\n",
    "Those are Pubtator3 ambiguities, incorporated in CSpace, that will hopefully be solved in future Pubtator3 releases."
   ]
  },
  {
   "cell_type": "code",
   "execution_count": 5,
   "id": "1f8ce654-dd98-4c00-800f-66b4afbf66ce",
   "metadata": {},
   "outputs": [
    {
     "data": {
      "text/plain": [
       "[('p-Aminohippuric Acid', 0.5670960545539856),\n",
       " ('SFTPD', 0.5638678073883057),\n",
       " ('Iloprost', 0.5443216562271118),\n",
       " ('ELANE', 0.5402020215988159),\n",
       " ('Cystic Fibrosis', 0.5367894172668457),\n",
       " ('SFTPC', 0.5309598445892334),\n",
       " ('Beclomethasone', 0.5169974565505981),\n",
       " ('Albuterol', 0.5095176100730896),\n",
       " ('expired', 0.5091230273246765)]"
      ]
     },
     "execution_count": 5,
     "metadata": {},
     "output_type": "execute_result"
    }
   ],
   "source": [
    "# gene PAH is the top most, non-erroneous related gene to IPF\n",
    "list(shared_similarities(smodel,c1,'gene_5053',topn=1000))"
   ]
  }
 ],
 "metadata": {
  "kernelspec": {
   "display_name": "Python 3 (ipykernel)",
   "language": "python",
   "name": "python3"
  },
  "language_info": {
   "codemirror_mode": {
    "name": "ipython",
    "version": 3
   },
   "file_extension": ".py",
   "mimetype": "text/x-python",
   "name": "python",
   "nbconvert_exporter": "python",
   "pygments_lexer": "ipython3",
   "version": "3.11.13"
  }
 },
 "nbformat": 4,
 "nbformat_minor": 5
}
