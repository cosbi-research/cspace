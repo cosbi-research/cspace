{
 "cells": [
  {
   "cell_type": "markdown",
   "id": "70a84c88-83fd-4540-bfb8-a5705cc3eae3",
   "metadata": {},
   "source": [
    "# Verify ontology concepts in the CSpace\n",
    "\n",
    "In this notebook we inspect ontological concepts (diseases) embedded in the CSpace.\n",
    "\n",
    "1) isolate ontological concepts\n",
    "2) compute relatedness empirical distribution\n",
    "3) inspect top and bottom-related concepts\n",
    "4) check coherence of CSpace concept relatedness and literature"
   ]
  },
  {
   "cell_type": "code",
   "execution_count": 1,
   "id": "52378b9d-4ebd-4808-befd-fd5e51d285c6",
   "metadata": {},
   "outputs": [],
   "source": [
    "from gensim.models import KeyedVectors\n",
    "import compress_fasttext\n",
    "import numpy as np\n",
    "from commonalities import get_names\n",
    "from distribution import *\n",
    "import re\n",
    "import pickle"
   ]
  },
  {
   "cell_type": "markdown",
   "id": "b589676d-4f73-45e3-901a-ecf8a0f0be8c",
   "metadata": {},
   "source": [
    "## isolate ontological concepts"
   ]
  },
  {
   "cell_type": "code",
   "execution_count": 13,
   "id": "03c1ef20-b62d-4e4b-b0f8-10465c09e31a",
   "metadata": {},
   "outputs": [],
   "source": [
    "smodel = KeyedVectors.load('models/cspace.kv.bin','r')"
   ]
  },
  {
   "cell_type": "markdown",
   "id": "5f5b40ef-d5a8-45dd-be9f-a021cca50350",
   "metadata": {},
   "source": [
    "Inspect"
   ]
  },
  {
   "cell_type": "code",
   "execution_count": 3,
   "id": "e01196e4-9819-4036-89c9-545b9bea281c",
   "metadata": {},
   "outputs": [],
   "source": [
    "Wspecies = np.memmap('models/Wspecies.npy', mode=\"w+\", dtype=np.float32, shape=(180344, 152))\n",
    "species_key_to_index={}\n",
    "Wdiseases = np.memmap('models/Wdiseases.npy', mode=\"w+\", dtype=np.float32, shape=(5604, 152))\n",
    "diseases_key_to_index={}\n",
    "Wchemicals = np.memmap('models/Wchemicals.npy', mode=\"w+\", dtype=np.float32, shape=(5630, 152))\n",
    "chemicals_key_to_index={}\n",
    "Wgenes = np.memmap('models/Wgenes.npy', mode=\"w+\", dtype=np.float32, shape=(211842, 152))\n",
    "genes_key_to_index={}\n",
    "\n",
    "concept_names=['species','disease','chemical','gene']\n",
    "concept_W=[Wspecies,Wdiseases,Wchemicals,Wgenes]\n",
    "concept_maps=[species_key_to_index,diseases_key_to_index,chemicals_key_to_index,genes_key_to_index]\n",
    "concept_patterns=[re.compile(x) for x in ['^species_[0-9]+$','^disease_mesh_d[0-9]+$','^chemical_mesh_d[0-9]+$','^gene_[0-9]+$']]"
   ]
  },
  {
   "cell_type": "code",
   "execution_count": 4,
   "id": "11272b67-8233-42f0-8cbe-fda474d3174d",
   "metadata": {},
   "outputs": [],
   "source": [
    "idxs={\n",
    "    'species':0,\n",
    "    'disease':0,\n",
    "    'chemical':0,\n",
    "    'gene':0\n",
    "}\n",
    "for k in smodel.key_to_index.keys():\n",
    "    for n,W,Wmap,p in zip(concept_names,concept_W,concept_maps,concept_patterns):\n",
    "        if p.match(k):\n",
    "            i = idxs[n]\n",
    "            # store to matrix W\n",
    "            W[i, :] = smodel.get_vector(k,norm=True)\n",
    "            # save map index_to_key\n",
    "            Wmap[i]=k\n",
    "            # next position\n",
    "            idxs[n]+=1\n",
    "            break\n",
    "\n",
    "for W in concept_W:\n",
    "    W.flush()"
   ]
  },
  {
   "cell_type": "code",
   "execution_count": 5,
   "id": "2c78d816-6b5d-4807-901b-2139a56b55b2",
   "metadata": {},
   "outputs": [
    {
     "data": {
      "text/plain": [
       "{'species': 180344, 'disease': 5604, 'chemical': 5630, 'gene': 211842}"
      ]
     },
     "execution_count": 5,
     "metadata": {},
     "output_type": "execute_result"
    }
   ],
   "source": [
    "idxs"
   ]
  },
  {
   "cell_type": "code",
   "execution_count": 6,
   "id": "a2f9b373-3b72-4373-9efb-3dc83f4c7278",
   "metadata": {},
   "outputs": [],
   "source": [
    "Wdata = {\n",
    "    'idxs':idxs,\n",
    "    'names':concept_names,\n",
    "    'maps':concept_maps,\n",
    "    'patterns':concept_patterns,\n",
    "    'paths':['models/Wspecies.npy','models/Wdiseases.npy','models/Wchemicals.npy','models/Wgenes.npy']\n",
    "}\n",
    "\n",
    "with open('models/Wdata.pkl','wb') as f:\n",
    "    pickle.dump(Wdata, f)"
   ]
  },
  {
   "cell_type": "code",
   "execution_count": 2,
   "id": "1b629b7a-92b7-43fd-8c5d-95b9ce19ba80",
   "metadata": {},
   "outputs": [],
   "source": [
    "with open('models/Wdata.pkl','rb') as f:\n",
    "    Wdata = pickle.load(f)"
   ]
  },
  {
   "cell_type": "code",
   "execution_count": 11,
   "id": "687a5b5d-a0fb-4cb3-8258-b551421a2661",
   "metadata": {},
   "outputs": [],
   "source": [
    "# create a ontology-only version of cspace:\n",
    "idxs=Wdata['idxs']\n",
    "maps=Wdata['maps']\n",
    "concepts = []\n",
    "for ni,n in enumerate(Wdata['names']):\n",
    "    concepts.extend(maps[ni].values())\n",
    "\n",
    "omodel = smodel.vectors_for_all(concepts)\n",
    "\n",
    "omodel.save('models/cspace.ontology.kv.bin')\n",
    "#for n,Wpath in zip(Wdata['names'],Wdata['paths']):\n",
    "#    m=maps[n]\n",
    "#    wlen=idxs[n]\n",
    "    \n"
   ]
  },
  {
   "cell_type": "code",
   "execution_count": 3,
   "id": "db88e72d-0c0f-402a-89bb-f33988cfd890",
   "metadata": {},
   "outputs": [],
   "source": [
    "idxs=Wdata['idxs']\n",
    "# global row-block matrix with all\n",
    "Wg = np.memmap('models/Wall.npy', mode=\"w+\", dtype=np.float32, shape=(sum([idxs[k] for k in idxs]), 152))\n",
    "ig = 0\n",
    "for n,Wpath in zip(Wdata['names'],Wdata['paths']):\n",
    "    Wlen=idxs[n]\n",
    "    W = np.memmap(Wpath, mode=\"r\", dtype=np.float32, shape=(Wlen, 152))\n",
    "    # block copy\n",
    "    Wg[ig:ig+Wlen,:] = W\n",
    "    ig += Wlen\n",
    "    \n",
    "Wg.flush()"
   ]
  },
  {
   "cell_type": "code",
   "execution_count": 4,
   "id": "28b4ac93-4e15-425d-a904-f657f291024c",
   "metadata": {},
   "outputs": [
    {
     "data": {
      "text/plain": [
       "403420"
      ]
     },
     "execution_count": 4,
     "metadata": {},
     "output_type": "execute_result"
    }
   ],
   "source": [
    "ig"
   ]
  },
  {
   "cell_type": "code",
   "execution_count": 5,
   "id": "acd692c4-8c0c-4864-b68b-a9a3e977e19a",
   "metadata": {},
   "outputs": [
    {
     "data": {
      "text/plain": [
       "array([180344, 185948, 191578, 403420])"
      ]
     },
     "execution_count": 5,
     "metadata": {},
     "output_type": "execute_result"
    }
   ],
   "source": [
    "# ranges for every concept\n",
    "np.cumsum(list(idxs.values()))"
   ]
  },
  {
   "cell_type": "markdown",
   "id": "0c1c04fc-9ced-48d8-833f-1e1fca4ed0c5",
   "metadata": {},
   "source": [
    "Now apply an analysis similar to the one in cspace_cosine_distributions"
   ]
  },
  {
   "cell_type": "code",
   "execution_count": 6,
   "id": "b59c29b7-5e87-4c7d-9a5d-b8dc114c45c6",
   "metadata": {},
   "outputs": [
    {
     "data": {
      "text/plain": [
       "(403420, 152)"
      ]
     },
     "execution_count": 6,
     "metadata": {},
     "output_type": "execute_result"
    }
   ],
   "source": [
    "Wg.shape"
   ]
  },
  {
   "cell_type": "markdown",
   "id": "6bb9d2e5-6445-4256-9887-cbe2b4e31059",
   "metadata": {},
   "source": [
    "too big.. do it only for diseases"
   ]
  },
  {
   "cell_type": "markdown",
   "id": "79a88c85-d2db-4c90-aa5f-8441b4d494b5",
   "metadata": {},
   "source": [
    "## compute relatedness empirical distribution\n"
   ]
  },
  {
   "cell_type": "code",
   "execution_count": 3,
   "id": "a959e898-d1be-42ae-923b-ad46b7a975ff",
   "metadata": {},
   "outputs": [
    {
     "data": {
      "text/plain": [
       "(5604, 5604)"
      ]
     },
     "execution_count": 3,
     "metadata": {},
     "output_type": "execute_result"
    }
   ],
   "source": [
    "disease=1\n",
    "Wlen = Wdata['idxs']['disease']\n",
    "Wpath = Wdata['paths'][disease]\n",
    "dmap = Wdata['maps'][disease]\n",
    "\n",
    "Wdiseases = np.memmap(Wpath, mode=\"r\", dtype=np.float32, shape=(Wlen, 152))\n",
    "\n",
    "Wsq = Wdiseases @ Wdiseases.T\n",
    "Wsq.shape"
   ]
  },
  {
   "cell_type": "code",
   "execution_count": 4,
   "id": "0a15dd71-33b6-4dd9-8864-2db2b0637b1f",
   "metadata": {},
   "outputs": [
    {
     "data": {
      "image/png": "[encoded data removed]",
      "text/plain": [
       "<Figure size 640x480 with 1 Axes>"
      ]
     },
     "metadata": {},
     "output_type": "display_data"
    },
    {
     "name": "stdout",
     "output_type": "stream",
     "text": [
      "Distribution diagnostics: {'n': 5604, 'expected_pairs': 15699606, 'counted_pairs': 15699606, 'dropped_pairs': 0, 'nan_count': 0, 'inf_count': 0, 'min_seen': 0.27934199571609497, 'max_seen': 0.9893831014633179, 'cdf_last': 0.9999999363041334, 'hist_range': (0.28, 1.0), 'bins': 1000}\n"
     ]
    }
   ],
   "source": [
    "# 1) Distribution (upper triangle, no diagonal)\n",
    "\n",
    "bin_edges, hist_counts, pdf, cdf, stats = build_distribution(Wsq, bins=BINS, hist_range=(0.28, 1.0), row_block=ROW_BLOCK)"
   ]
  },
  {
   "cell_type": "code",
   "execution_count": 5,
   "id": "2f81c6fd-43a1-4498-a09e-95852de67c04",
   "metadata": {},
   "outputs": [
    {
     "name": "stdout",
     "output_type": "stream",
     "text": [
      "Approx min-sim threshold (~0.10th pct): 0.4492\n",
      "Approx low-sim threshold (~25.00th pct): 0.6242\n",
      "Approx middle-sim threshold (~50.00th pct): 0.6774\n",
      "Approx high-sim threshold (~75.00th pct): 0.7307\n",
      "Approx max-sim threshold (~99.90th pct): 0.8920\n"
     ]
    }
   ],
   "source": [
    "# print quantile thresholds\n",
    "minimum, maximum = quantile_thresholds_from_hist(bin_edges, hist_counts, cdf, LO_Q, HI_Q)\n",
    "print(f\"Approx min-sim threshold (~{LO_Q*100:.2f}th pct): {minimum:.4f}\")\n",
    "\n",
    "low, middle = quantile_thresholds_from_hist(bin_edges, hist_counts, cdf, 0.25, 0.5)\n",
    "print(f\"Approx low-sim threshold (~{25:.2f}th pct): {low:.4f}\")\n",
    "\n",
    "middle, high = quantile_thresholds_from_hist(bin_edges, hist_counts, cdf, 0.5, 0.75)\n",
    "print(f\"Approx middle-sim threshold (~{50:.2f}th pct): {middle:.4f}\")\n",
    "print(f\"Approx high-sim threshold (~{75:.2f}th pct): {high:.4f}\")\n",
    "\n",
    "print(f\"Approx max-sim threshold (~{HI_Q*100:.2f}th pct): {maximum:.4f}\")\n"
   ]
  },
  {
   "cell_type": "markdown",
   "id": "0f753a01-f226-4734-9dfe-bc7a77504458",
   "metadata": {},
   "source": [
    "It looks like ontology identifiers have statistically higher similarities among them w.r.t. general concepts"
   ]
  },
  {
   "cell_type": "markdown",
   "id": "c7ee206e-3c35-44db-b6a0-d45550afed97",
   "metadata": {},
   "source": [
    "## inspect top and bottom-related concepts\n"
   ]
  },
  {
   "cell_type": "code",
   "execution_count": 7,
   "id": "769ded93-3a99-4c9a-9ad0-a3faa9c6f3ab",
   "metadata": {},
   "outputs": [],
   "source": [
    "# Show samples of very similar and very dissimilar entries\n",
    "top, bottom = find_extremes(Wsq, k=20, row_block=ROW_BLOCK)\n"
   ]
  },
  {
   "cell_type": "code",
   "execution_count": 8,
   "id": "a7e8981c-38f3-46f6-9db0-54421ac27acd",
   "metadata": {},
   "outputs": [
    {
     "name": "stdout",
     "output_type": "stream",
     "text": [
      "\n",
      "Top (very similar) off-diagonal pairs:\n",
      "Coxa Vara ≈ Coxa Valga (0.989383)\n",
      "Psychoses, Substance-Induced ≈ Psychotic Disorders (0.985656)\n",
      "Colitis, Collagenous ≈ Colitis, Lymphocytic (0.982035)\n",
      "Chondromatosis ≈ Osteochondromatosis (0.980452)\n",
      "Aortic Root Aneurysm ≈ Aneurysm, Aortic Arch (0.979565)\n",
      "d0093692 ≈ d00936923 (0.979155)\n",
      "Genu Varum ≈ Genu Valgum (0.978877)\n",
      "Spondylarthropathies ≈ Spondylarthritis (0.978192)\n",
      "Tuberculosis, Cardiovascular ≈ Tuberculosis, Endocrine (0.978108)\n",
      "Aneurysm, Ascending Aorta ≈ Dissection, Thoracic Aorta (0.977967)\n",
      "Dissection, Thoracic Aorta ≈ Aortic Aneurysm, Thoracoabdominal (0.977927)\n",
      "d0019434 ≈ d0019433 (0.977583)\n",
      "d0002755 ≈ d0002756 (0.977523)\n",
      "d0103009 ≈ d0103007 (0.977492)\n",
      "Cystadenoma, Serous ≈ Cystadenoma, Mucinous (0.977323)\n",
      "Breast Neoplasms ≈ d0019433 (0.977215)\n",
      "Pre-Excitation Syndromes ≈ Pre-Excitation, Mahaim-Type (0.977093)\n",
      "Anemia, Refractory ≈ Anemia, Refractory, with Excess of Blasts (0.977028)\n",
      "Cystadenoma ≈ Cystadenocarcinoma (0.976956)\n",
      "Lung Injury ≈ Acute Lung Injury (0.976890)\n",
      "\n",
      "Bottom (very dissimilar) off-diagonal pairs:\n",
      "Astigmatism ≈ d015658015658 (0.279342)\n",
      "d0571749606 ≈ d007239007239 (0.304843)\n",
      "Anodontia ≈ d015658015658 (0.305667)\n",
      "Frontotemporal Lobar Degeneration ≈ d007239007239 (0.306397)\n",
      "Candidemia ≈ d010003010003 (0.310414)\n",
      "d015658015658 ≈ d0000710790071079 (0.312112)\n",
      "Anemia, Hypochromic ≈ d010003010003 (0.315026)\n",
      "Pancreatic Fistula ≈ d015658015658 (0.317804)\n",
      "Gender Dysphoria ≈ d007239007239 (0.318422)\n",
      "Mitral Valve Insufficiency ≈ d015658015658 (0.319780)\n",
      "Gambling ≈ d0000710790071079 (0.320881)\n",
      "Tricuspid Valve Insufficiency ≈ d015658015658 (0.320976)\n",
      "REM Sleep Behavior Disorder ≈ d007239007239 (0.325790)\n",
      "Stenosis, Pulmonary Artery ≈ d015658015658 (0.326911)\n",
      "Anodontia ≈ Charles Bonnet Syndrome (0.327060)\n",
      "Rotavirus Infections ≈ d010003010003 (0.328059)\n",
      "Gestational Weight Gain ≈ d007239007239 (0.328134)\n",
      "Malaria, Falciparum ≈ Lordosis (0.328622)\n",
      "Astigmatism ≈ d007239007239 (0.328963)\n",
      "Binge-Eating Disorder ≈ d007239007239 (0.329232)\n"
     ]
    }
   ],
   "source": [
    "\n",
    "print(\"\\nTop (very similar) off-diagonal pairs:\")\n",
    "for val, i, j in top:\n",
    "    (n_i,_), (n_j,_) = get_names([(dmap[i],None),(dmap[j],None)])\n",
    "    print(f\"{n_i} ≈ {n_j} ({val:.6f})\")\n",
    "\n",
    "print(\"\\nBottom (very dissimilar) off-diagonal pairs:\")\n",
    "for val, i, j in bottom:\n",
    "    (n_i,_), (n_j,_) = get_names([(dmap[i],None),(dmap[j],None)])\n",
    "    print(f\"{n_i} ≈ {n_j} ({val:.6f})\")\n"
   ]
  },
  {
   "cell_type": "markdown",
   "id": "4d299c52-bb9f-43f9-93a8-a7929ee7ec28",
   "metadata": {},
   "source": [
    "the first results can help ontology curators to cut down the number of ontology entities for extremely similar concepts."
   ]
  },
  {
   "cell_type": "code",
   "execution_count": 14,
   "id": "e8ef23f5-0490-46ab-a228-cd2a1f4bdce6",
   "metadata": {},
   "outputs": [
    {
     "data": {
      "text/plain": [
       "0.91930604"
      ]
     },
     "execution_count": 14,
     "metadata": {},
     "output_type": "execute_result"
    }
   ],
   "source": [
    "smodel.similarity( 'disease_mesh_d015658015658', 'disease_mesh_d015658' )"
   ]
  },
  {
   "cell_type": "markdown",
   "id": "97d0bbcd-fd22-4e4c-9e10-4531a1f02773",
   "metadata": {},
   "source": [
    "**ERROR**: there are some mesh with duplicated ID, as in the last cell"
   ]
  },
  {
   "cell_type": "markdown",
   "id": "84992921-b451-44f1-8142-24233c50c715",
   "metadata": {},
   "source": [
    "## check coherence of CSpace concept relatedness and literature\n",
    "\n",
    "Now, have a look at similar values at a given percentile:"
   ]
  },
  {
   "cell_type": "code",
   "execution_count": 6,
   "id": "da26d2bf-1774-4682-aa6c-e88030240db3",
   "metadata": {},
   "outputs": [],
   "source": [
    "low_list = find_pairs_near_percentile(Wsq, bin_edges, cdf, target_percentile=0.25, k=20)\n",
    "middle_list = find_pairs_near_percentile(Wsq, bin_edges, cdf, target_percentile=0.50, k=20)\n",
    "high_list = find_pairs_near_percentile(Wsq, bin_edges, cdf, target_percentile=0.75, k=20)\n",
    "# (abs_diff_from_0.95, i, j, similarity_value, value_percentile)"
   ]
  },
  {
   "cell_type": "code",
   "execution_count": 12,
   "id": "bc837ad2-2ffb-45b7-9444-90d051a30dac",
   "metadata": {},
   "outputs": [
    {
     "name": "stdout",
     "output_type": "stream",
     "text": [
      "\n",
      "Low (very dis-similar) pairs:\n",
      "Ovarian Hyperstimulation Syndrome ≈ d0022779606 (0.624872 (25.0%))\n",
      "Venous Thrombosis ≈ Otitis (0.624872 (25.0%))\n",
      "Pemphigus, Benign Familial ≈ Paranoid Personality Disorder (0.624872 (25.0%))\n",
      "Chronic Periodontitis ≈ Gonadal Dysgenesis, 46,XY (0.624872 (25.0%))\n",
      "Multiple Sclerosis ≈ Piscirickettsiaceae Infections (0.624872 (25.0%))\n",
      "Pancreas Divisum ≈ Sluggish Cognitive Tempo (0.624872 (25.0%))\n",
      "Haemophilus Infections ≈ Bowen's Disease (0.624872 (25.0%))\n",
      "Wolf-Hirschhorn Syndrome ≈ d0064809606 (0.624872 (25.0%))\n",
      "Pulmonary Alveolar Proteinosis ≈ d0000692799606 (0.624872 (25.0%))\n",
      "Pain Insensitivity, Congenital ≈ Spherocytosis, Hereditary (0.624872 (25.0%))\n",
      "Psychological Trauma ≈ Micronuclei, Chromosome-Defective (0.624872 (25.0%))\n",
      "Necrosis ≈ Ganglioglioma (0.624872 (25.0%))\n",
      "Spondylitis, Ankylosing ≈ d0064809606 (0.624872 (25.0%))\n",
      "T-Lymphocytopenia, Idiopathic CD4-Positive ≈ Alexia, Pure (0.624872 (25.0%))\n",
      "Hypobetalipoproteinemia, Familial, Apolipoprotein B ≈ Pneumovirus Infections (0.624872 (25.0%))\n",
      "Glucosephosphate Dehydrogenase Deficiency ≈ Primary Ovarian Insufficiency (0.624872 (25.0%))\n",
      "Lice Infestations ≈ Immune Reconstitution Inflammatory Syndrome (0.624872 (25.0%))\n",
      "Leishmaniasis, Visceral ≈ Oligospermia (0.624872 (25.0%))\n",
      "Liddle Syndrome ≈ d0072398 (0.624872 (25.0%))\n",
      "Femoracetabular Impingement ≈ d0093699369 (0.624872 (25.0%))\n",
      "\n",
      "Middle (neutral) pairs:\n",
      "Anxiety Disorders ≈ Pemphigoid, Benign Mucous Membrane (0.677942) (50.0%)\n",
      "Chondrosarcoma, Mesenchymal ≈ d0161089606 (0.677942) (50.0%)\n",
      "Cerebellar Ataxia ≈ d0091909606 (0.677942) (50.0%)\n",
      "Gastroenteritis ≈ Tympanic Membrane Perforation (0.677942) (50.0%)\n",
      "Postthrombotic Syndrome ≈ Hallux Rigidus (0.677942) (50.0%)\n",
      "Trochlear Nerve Diseases ≈ d0062239606 (0.677942) (50.0%)\n",
      "Hematemesis ≈ d054058324 (0.677942) (50.0%)\n",
      "Liver Diseases ≈ Epispadias (0.677942) (50.0%)\n",
      "Dental Pulp Diseases ≈ d0023183 (0.677942) (50.0%)\n",
      "Catatonia ≈ Otorhinolaryngologic Diseases (0.677942) (50.0%)\n",
      "Autoimmune Diseases ≈ d0199668 (0.677942) (50.0%)\n",
      "Persistent Vegetative State ≈ Food Intolerance (0.677942) (50.0%)\n",
      "Canavan Disease ≈ MINOCA (0.677942) (50.0%)\n",
      "Prosthesis Failure ≈ Holocarboxylase Synthetase Deficiency (0.677942) (50.0%)\n",
      "Median Neuropathy ≈ d019966431 (0.677942) (50.0%)\n",
      "Brain Ischemia ≈ Persistent Hyperplastic Primary Vitreous (0.677942) (50.0%)\n",
      "Granulosa Cell Tumor ≈ Night Blindness (0.677942) (50.0%)\n",
      "Paraparesis, Tropical Spastic ≈ Optic Disk Drusen (0.677942) (50.0%)\n",
      "Eye Pain ≈ Ectodermal Dysplasia, Hypohidrotic, Autosomal Recessive (0.677942) (50.0%)\n",
      "Cerebrospinal Fluid Leak ≈ Tumor Virus Infections (0.677942) (50.0%)\n",
      "\n",
      "High (very similar) pairs:\n",
      "Lymphadenitis ≈ d0167369606 (0.731142) (75.0%)\n",
      "Thoracic Neoplasms ≈ Langerhans Cell Sarcoma (0.731142) (75.0%)\n",
      "Fluoride Poisoning ≈ d0072390 (0.731142) (75.0%)\n",
      "Pulmonary Blastoma ≈ Morphine Dependence (0.731142) (75.0%)\n",
      "Malocclusion, Angle Class III ≈ Rhinoscleroma (0.731142) (75.0%)\n",
      "Cytochrome-c Oxidase Deficiency ≈ d0202469606 (0.731142) (75.0%)\n",
      "Leukemia, Promyelocytic, Acute ≈ Pain, Procedural (0.731142) (75.0%)\n",
      "Neglected Diseases ≈ Marijuana Use (0.731142) (75.0%)\n",
      "Myeloproliferative Disorders ≈ Rinderpest (0.731142) (75.0%)\n",
      "Pericarditis ≈ Paragonimiasis (0.731142) (75.0%)\n",
      "Oropharyngeal Neoplasms ≈ Chronic Inducible Urticaria (0.731142) (75.0%)\n",
      "Brain Injuries ≈ Organizing Pneumonia (0.731142) (75.0%)\n",
      "Tension-Type Headache ≈ Polymyositis (0.731142) (75.0%)\n",
      "Odontoma ≈ Lymphangitis (0.731142) (75.0%)\n",
      "Opisthorchiasis ≈ Aphonia (0.731142) (75.0%)\n",
      "Coronary Thrombosis ≈ Morgellons Disease (0.731142) (75.0%)\n",
      "Osteosarcoma ≈ Bone Cysts (0.731142) (75.0%)\n",
      "Bone Neoplasms ≈ Urachal Cyst (0.731142) (75.0%)\n",
      "Duane Retraction Syndrome ≈ Recurrence (0.731142) (75.0%)\n",
      "Hearing Loss, Central ≈ Eye Pain (0.731142) (75.0%)\n"
     ]
    }
   ],
   "source": [
    "print(\"\\nLow (very dis-similar) pairs:\")\n",
    "for abs_diff, i, j, val, perc in low_list:\n",
    "    (n_i,_), (n_j,_) = get_names([(dmap[i],None),(dmap[j],None)])\n",
    "    print(f\"{n_i} ≈ {n_j} ({val:.6f} ({perc*100:.1f}%))\")\n",
    "\n",
    "print(\"\\nMiddle (neutral) pairs:\")\n",
    "for abs_diff, i, j, val, perc in middle_list:\n",
    "    (n_i,_), (n_j,_) = get_names([(dmap[i],None),(dmap[j],None)])\n",
    "    print(f\"{n_i} ≈ {n_j} ({val:.6f}) ({perc*100:.1f}%)\")\n",
    "\n",
    "print(\"\\nHigh (very similar) pairs:\")\n",
    "for abs_diff, i, j, val, perc in high_list:\n",
    "    (n_i,_), (n_j,_) = get_names([(dmap[i],None),(dmap[j],None)])\n",
    "    print(f\"{n_i} ≈ {n_j} ({val:.6f}) ({perc*100:.1f}%)\")\n"
   ]
  },
  {
   "cell_type": "markdown",
   "id": "1506e8a3-fe52-4082-bfa4-938ca144d997",
   "metadata": {},
   "source": [
    "Are those reasonable? let's see if they correlate with literature occurrences of both diseases"
   ]
  },
  {
   "cell_type": "code",
   "execution_count": 8,
   "id": "1b67304c-63b6-492c-944a-149b57c5057d",
   "metadata": {},
   "outputs": [],
   "source": [
    "from pubtator_utils import *"
   ]
  },
  {
   "cell_type": "code",
   "execution_count": 9,
   "id": "c96cb5c9-1716-4672-80af-aa2d82fdc10d",
   "metadata": {},
   "outputs": [],
   "source": [
    "# 2) Provide a name lookup that maps row index -> PubTator concept name\n",
    "# If dmap[i] already returns the readable name used in your prints:\n",
    "def name_lookup(i: int) -> str:\n",
    "    t = list(get_names([(dmap[i],None)]))  # e.g., \"Thoracic Neoplasms\" -> slug becomes \"Thoracic_Neoplasms\"\n",
    "    return t[0][0]\n",
    "\n",
    "# 3) Count literature hits for each set (optionally pass api_key=\"...\"):\n",
    "low_literature = count_pairs_in_literature(low_list, name_lookup=name_lookup, entity_prefix=\"@DISEASE_\", api_key=None)\n",
    "middle_literature = count_pairs_in_literature(middle_list, name_lookup=name_lookup, entity_prefix=\"@DISEASE_\", api_key=None)\n",
    "high_literature = count_pairs_in_literature(high_list, name_lookup=name_lookup, entity_prefix=\"@DISEASE_\", api_key=None)\n"
   ]
  },
  {
   "cell_type": "code",
   "execution_count": 16,
   "id": "172ae716-c954-47dd-a2c6-b0bb9f65bd92",
   "metadata": {},
   "outputs": [
    {
     "data": {
      "text/plain": [
       "{'i': 192,\n",
       " 'j': 459,\n",
       " 'name_i': 'Venous Thrombosis',\n",
       " 'name_j': 'Otitis',\n",
       " 'cosine': 0.6248719096183777,\n",
       " 'count': 261}"
      ]
     },
     "execution_count": 16,
     "metadata": {},
     "output_type": "execute_result"
    }
   ],
   "source": [
    "low_literature[1]"
   ]
  },
  {
   "cell_type": "code",
   "execution_count": 15,
   "id": "ef25c57f-0ccf-4ee7-ba23-7a2e55aa9673",
   "metadata": {},
   "outputs": [
    {
     "data": {
      "text/plain": [
       "{'i': 3053,\n",
       " 'j': 3655,\n",
       " 'name_i': 'Thoracic Neoplasms',\n",
       " 'name_j': 'Langerhans Cell Sarcoma',\n",
       " 'cosine': 0.7311422824859619,\n",
       " 'count': 2}"
      ]
     },
     "execution_count": 15,
     "metadata": {},
     "output_type": "execute_result"
    }
   ],
   "source": [
    "\n",
    "high_literature[1]"
   ]
  },
  {
   "cell_type": "markdown",
   "id": "81a219df-ed88-4e67-b5b0-73b034d9106d",
   "metadata": {},
   "source": [
    "Counts are typically heavy-tailed; \n",
    "\n",
    "Pearson can be dominated by a few very common pairs. \n",
    "Correlating with log1p(count) for a Pearson-friendly scale:"
   ]
  },
  {
   "cell_type": "code",
   "execution_count": 23,
   "id": "6e45d512-5260-4e95-8039-57a7faa01e71",
   "metadata": {},
   "outputs": [
    {
     "name": "stdout",
     "output_type": "stream",
     "text": [
      "Pearson on log1p(count): 0.08023448179962082\n"
     ]
    }
   ],
   "source": [
    "# correlation between CSpace low-relatedness concepts and log(co-occurrence count) in literature\n",
    "for r in low_literature:\n",
    "    r[\"count\"] = None if r[\"count\"] is None else int(r[\"count\"])\n",
    "xs = np.array([r[\"cosine\"] for r in low_literature if r[\"count\"] is not None], float)\n",
    "ys = np.array([math.log1p(r[\"count\"]) for r in low_literature if r[\"count\"] is not None], float)\n",
    "print(\"Pearson on log1p(count):\", float(np.corrcoef(xs, ys)[0,1]))"
   ]
  },
  {
   "cell_type": "code",
   "execution_count": 24,
   "id": "8133d5e0-9771-436a-9700-2506592bba24",
   "metadata": {},
   "outputs": [
    {
     "name": "stdout",
     "output_type": "stream",
     "text": [
      "Pearson on log1p(count): 0.184832388524388\n"
     ]
    }
   ],
   "source": [
    "# correlation between CSpace middle-relatedness concepts and log(co-occurrence count) in literature\n",
    "for r in middle_literature:\n",
    "    r[\"count\"] = None if r[\"count\"] is None else int(r[\"count\"])\n",
    "xs = np.array([r[\"cosine\"] for r in middle_literature if r[\"count\"] is not None], float)\n",
    "ys = np.array([math.log1p(r[\"count\"]) for r in middle_literature if r[\"count\"] is not None], float)\n",
    "print(\"Pearson on log1p(count):\", float(np.corrcoef(xs, ys)[0,1]))"
   ]
  },
  {
   "cell_type": "code",
   "execution_count": 25,
   "id": "1aa79812-71c0-4bc8-969b-d369d2372253",
   "metadata": {},
   "outputs": [
    {
     "name": "stdout",
     "output_type": "stream",
     "text": [
      "Pearson on log1p(count): 0.44233422728783706\n"
     ]
    }
   ],
   "source": [
    "# correlation between CSpace high-relatedness concepts and log(co-occurrence count) in literature\n",
    "for r in high_literature:\n",
    "    r[\"count\"] = None if r[\"count\"] is None else int(r[\"count\"])\n",
    "xs = np.array([r[\"cosine\"] for r in high_literature if r[\"count\"] is not None], float)\n",
    "ys = np.array([math.log1p(r[\"count\"]) for r in high_literature if r[\"count\"] is not None], float)\n",
    "print(\"Pearson on log1p(count):\", float(np.corrcoef(xs, ys)[0,1]))"
   ]
  },
  {
   "cell_type": "markdown",
   "id": "a746c3b7-c000-4298-9ce2-a716c3e4a63b",
   "metadata": {},
   "source": [
    "CSpace embeddings **positively correlates with number of concept co-occurrence in literature**, \n",
    "\n",
    "another interesting fact supporting it's ability to effectively **summarize** and **capture the essence** of the relations between concepts described in literature."
   ]
  }
 ],
 "metadata": {
  "kernelspec": {
   "display_name": "Python 3 (ipykernel)",
   "language": "python",
   "name": "python3"
  },
  "language_info": {
   "codemirror_mode": {
    "name": "ipython",
    "version": 3
   },
   "file_extension": ".py",
   "mimetype": "text/x-python",
   "name": "python",
   "nbconvert_exporter": "python",
   "pygments_lexer": "ipython3",
   "version": "3.11.13"
  }
 },
 "nbformat": 4,
 "nbformat_minor": 5
}
